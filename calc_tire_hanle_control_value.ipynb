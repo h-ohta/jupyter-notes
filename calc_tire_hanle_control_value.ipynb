{
 "cells": [
  {
   "cell_type": "markdown",
   "metadata": {},
   "source": [
    "速度とlookahead ratio、横ずれからステアの制御値（タイヤ角、ハンドル角）を計算"
   ]
  },
  {
   "cell_type": "code",
   "execution_count": 7,
   "metadata": {},
   "outputs": [
    {
     "data": {
      "application/vnd.jupyter.widget-view+json": {
       "model_id": "c902b259582143aaa443c5d792092073",
       "version_major": 2,
       "version_minor": 0
      },
      "text/plain": [
       "interactive(children=(FloatSlider(value=5.0, description='vel_kmh', max=20.0, step=1.0), FloatSlider(value=2.2…"
      ]
     },
     "metadata": {},
     "output_type": "display_data"
    }
   ],
   "source": [
    "import math\n",
    "from ipywidgets import interact, FloatSlider\n",
    "\n",
    "\n",
    "@interact(vel_kmh=FloatSlider(min=0, max=20, step=1, value=5),\n",
    "          ratio=FloatSlider(min=0, max=5, step=0.1, value=2.2),\n",
    "          max_ld=FloatSlider(min=0, max=15, step=0.1, value=10),\n",
    "          min_ld=FloatSlider(min=0, max=5, step=0.1, value=2.5),\n",
    "          lat_diff=FloatSlider(min=0, max=5, step=0.01, value=0.01),\n",
    "          wheelbase=FloatSlider(min=0, max=5, step=0.1, value=4.0),\n",
    "          gear_ratio=FloatSlider(min=0, max=20, step=0.1, value=14.8)\n",
    "         )\n",
    "def pure_pursuit(vel_kmh, ratio, max_ld, min_ld, lat_diff, wheelbase, gear_ratio):\n",
    "    velocity_mps = vel_kmh / 3.6\n",
    "    print(\"velocity: %lf [km/h], %lf [m/s]\" % (vel_kmh, velocity_mps))\n",
    "\n",
    "    L = velocity_mps * ratio\n",
    "    L = max(L, min_ld)\n",
    "    L = min(L, max_ld)\n",
    "    print(\"L: %lf\" % L)\n",
    "\n",
    "    r = (L * L) / (2 * lat_diff) if lat_diff > 0 else 90000\n",
    "    print(\"r: %lf\" % r)\n",
    "\n",
    "    kappa = 1 / r\n",
    "    print(\"kappa: %lf\" % kappa)\n",
    "\n",
    "    print(\"lat_diff: %lf\" % lat_diff)\n",
    "\n",
    "    t_angle_rad = math.atan(wheelbase * kappa)\n",
    "    print(\"tire_angle_rad: %lf\" % t_angle_rad)\n",
    "\n",
    "    t_angle_deg = t_angle_rad * 180 / math.pi\n",
    "    print(\"tire_angle_deg: %lf\" % t_angle_deg)\n",
    "\n",
    "    h_angle_deg = t_angle_deg * gear_ratio\n",
    "    print(\"handle_angle_deg: %lf\" % h_angle_deg)\n"
   ]
  },
  {
   "cell_type": "code",
   "execution_count": null,
   "metadata": {},
   "outputs": [],
   "source": []
  }
 ],
 "metadata": {
  "kernelspec": {
   "display_name": "Python 3",
   "language": "python",
   "name": "python3"
  },
  "language_info": {
   "codemirror_mode": {
    "name": "ipython",
    "version": 3
   },
   "file_extension": ".py",
   "mimetype": "text/x-python",
   "name": "python",
   "nbconvert_exporter": "python",
   "pygments_lexer": "ipython3",
   "version": "3.7.3"
  },
  "toc-autonumbering": true
 },
 "nbformat": 4,
 "nbformat_minor": 4
}
